{
 "cells": [
  {
   "cell_type": "markdown",
   "metadata": {},
   "source": [
    "## Introduction to Yuzu"
   ]
  },
  {
   "cell_type": "markdown",
   "metadata": {},
   "source": [
    "Yuzu is a compressed sensing approach for calculating feature attribution scores quickly. Here, we will see how to use Yuzu in your own code and benchmark its implementation against other approaches."
   ]
  },
  {
   "cell_type": "code",
   "execution_count": 1,
   "metadata": {
    "ExecuteTime": {
     "end_time": "2021-09-03T06:53:38.046918Z",
     "start_time": "2021-09-03T06:53:36.170918Z"
    }
   },
   "outputs": [
    {
     "name": "stdout",
     "output_type": "stream",
     "text": [
      "Populating the interactive namespace from numpy and matplotlib\n"
     ]
    }
   ],
   "source": [
    "%pylab inline\n",
    "\n",
    "import seaborn\n",
    "seaborn.set_style('whitegrid')"
   ]
  },
  {
   "cell_type": "markdown",
   "metadata": {},
   "source": [
    "Let's start off by creating two example DNA sequences."
   ]
  },
  {
   "cell_type": "code",
   "execution_count": 2,
   "metadata": {
    "ExecuteTime": {
     "end_time": "2021-09-03T06:53:38.054065Z",
     "start_time": "2021-09-03T06:53:38.049159Z"
    }
   },
   "outputs": [],
   "source": [
    "idxs = numpy.random.RandomState(0).randn(2, 4, 1000).argmax(axis=1)\n",
    "X = numpy.zeros((2, 4, 1000), dtype='float32')\n",
    "X[0, idxs[0], numpy.arange(1000)] = 1\n",
    "X[1, idxs[1], numpy.arange(1000)] = 1"
   ]
  },
  {
   "cell_type": "markdown",
   "metadata": {},
   "source": [
    "Now, let's load up one of the toy (untrained) models provided by Yuzu. As a note, these models have been extended to take in any number of categories for the input, and so can be applied to protein sequences as easily as DNA sequences, and to take in any sequence length. However, your model does not need to take in these parameters. "
   ]
  },
  {
   "cell_type": "code",
   "execution_count": 3,
   "metadata": {
    "ExecuteTime": {
     "end_time": "2021-09-03T06:53:43.873170Z",
     "start_time": "2021-09-03T06:53:38.056273Z"
    }
   },
   "outputs": [],
   "source": [
    "from yuzu.models import Basset\n",
    "\n",
    "model = Basset(n_inputs=4, seq_len=1000).eval()"
   ]
  },
  {
   "cell_type": "markdown",
   "metadata": {},
   "source": [
    "The first thing we need to do is to precompute statistics about the model and the given sequence size. These include values like the receptive field and the number of probes needed at each layer. Note: because the precomputation step needs to only be done once for each model and sequence length and can then be used for any number of future sequences, the function has not yet been fully optimized and may take equivalent time to running vanilla ISM on that sequence.\n",
    "\n",
    "We will do the precomputation on the first example sequence and then apply Yuzu to the second sequence to demonstrate that the precomputation only needs to be done once per model and sequence length."
   ]
  },
  {
   "cell_type": "code",
   "execution_count": 4,
   "metadata": {
    "ExecuteTime": {
     "end_time": "2021-09-03T06:53:57.871335Z",
     "start_time": "2021-09-03T06:53:43.875455Z"
    }
   },
   "outputs": [],
   "source": [
    "from yuzu.yuzu_ism import precompute\n",
    "\n",
    "precomputation = precompute(model, X[0:1])"
   ]
  },
  {
   "cell_type": "markdown",
   "metadata": {},
   "source": [
    "Now let's apply Yuzu to the second sequence."
   ]
  },
  {
   "cell_type": "code",
   "execution_count": 5,
   "metadata": {
    "ExecuteTime": {
     "end_time": "2021-09-03T06:54:05.258434Z",
     "start_time": "2021-09-03T06:53:57.873786Z"
    }
   },
   "outputs": [
    {
     "name": "stdout",
     "output_type": "stream",
     "text": [
      "922 ms ± 14.5 ms per loop (mean ± std. dev. of 7 runs, 1 loop each)\n"
     ]
    }
   ],
   "source": [
    "from yuzu.yuzu_ism import yuzu_ism\n",
    "\n",
    "%timeit yuzu_ism(model, X[1:2], *precomputation, verbose=False)"
   ]
  },
  {
   "cell_type": "markdown",
   "metadata": {},
   "source": [
    "Let's compare that time to the time it takes to run a naive version of ISM that treats each mutation independently."
   ]
  },
  {
   "cell_type": "code",
   "execution_count": 6,
   "metadata": {
    "ExecuteTime": {
     "end_time": "2021-09-03T06:54:59.132637Z",
     "start_time": "2021-09-03T06:54:05.260215Z"
    }
   },
   "outputs": [
    {
     "name": "stdout",
     "output_type": "stream",
     "text": [
      "6.73 s ± 213 ms per loop (mean ± std. dev. of 7 runs, 1 loop each)\n"
     ]
    }
   ],
   "source": [
    "from yuzu.naive_ism import naive_ism\n",
    "\n",
    "%timeit naive_ism(model, X[1:2])"
   ]
  },
  {
   "cell_type": "markdown",
   "metadata": {
    "ExecuteTime": {
     "end_time": "2021-09-02T20:57:28.390756Z",
     "start_time": "2021-09-02T20:57:28.383356Z"
    }
   },
   "source": [
    "We should also ensure that the outputs are similar."
   ]
  },
  {
   "cell_type": "code",
   "execution_count": 7,
   "metadata": {
    "ExecuteTime": {
     "end_time": "2021-09-03T06:55:07.376757Z",
     "start_time": "2021-09-03T06:54:59.134382Z"
    }
   },
   "outputs": [
    {
     "data": {
      "text/plain": [
       "((1, 4, 1000), (1, 4, 1000))"
      ]
     },
     "execution_count": 7,
     "metadata": {},
     "output_type": "execute_result"
    }
   ],
   "source": [
    "yuzu_ism_scores = yuzu_ism(model, X[1:2], *precomputation, verbose=False)[0]\n",
    "naive_ism_scores = naive_ism(model, X[1:2])\n",
    "\n",
    "yuzu_ism_scores.shape, naive_ism_scores.shape"
   ]
  },
  {
   "cell_type": "code",
   "execution_count": 8,
   "metadata": {
    "ExecuteTime": {
     "end_time": "2021-09-03T06:55:07.677203Z",
     "start_time": "2021-09-03T06:55:07.378915Z"
    }
   },
   "outputs": [
    {
     "data": {
      "image/png": "[encoded data removed]",
      "text/plain": [
       "<Figure size 432x288 with 1 Axes>"
      ]
     },
     "metadata": {},
     "output_type": "display_data"
    }
   ],
   "source": [
    "x = naive_ism_scores.flatten()\n",
    "y = yuzu_ism_scores.flatten()\n",
    "r = numpy.corrcoef(x, y)[0, 1]\n",
    "\n",
    "plt.title(\"ISM Scores, Pearson Correlation={:3.3}\".format(r), fontsize=14)\n",
    "plt.scatter(naive_ism_scores.flatten(), yuzu_ism_scores.flatten(), s=10)\n",
    "plt.xlabel(\"Naive ISM Score\", fontsize=12)\n",
    "plt.ylabel(\"Yuzu ISM Score\", fontsize=12)\n",
    "plt.show()"
   ]
  },
  {
   "cell_type": "markdown",
   "metadata": {},
   "source": [
    "That's perfect correlation. Despite Yuzu being an approximate method in theory, when given enough probes (by setting alpha high enough) it is guaranteed to return an exactly correct answer, because of the principles of compressed sensing. "
   ]
  },
  {
   "cell_type": "markdown",
   "metadata": {},
   "source": [
    "Next, let's quickly look at memory usage. Many methods are able to achieve faster speeds through increased memory use. However, Yuzu actually has a bit smaller memory requirements than other approaches because it operates only on deltas and compresses those into compact probes."
   ]
  },
  {
   "cell_type": "code",
   "execution_count": 9,
   "metadata": {
    "ExecuteTime": {
     "end_time": "2021-09-03T06:55:07.682350Z",
     "start_time": "2021-09-03T06:55:07.678607Z"
    }
   },
   "outputs": [
    {
     "name": "stderr",
     "output_type": "stream",
     "text": [
      "UsageError: Line magic function `%memit` not found.\n"
     ]
    }
   ],
   "source": [
    "%memit yuzu_ism(model, X[1:2], *precomputation, verbose=False)"
   ]
  },
  {
   "cell_type": "code",
   "execution_count": null,
   "metadata": {
    "ExecuteTime": {
     "end_time": "2021-09-03T06:55:07.683942Z",
     "start_time": "2021-09-03T06:53:36.197Z"
    }
   },
   "outputs": [],
   "source": [
    "%memit naive_ism(model, X[1:2])"
   ]
  }
 ],
 "metadata": {
  "kernelspec": {
   "display_name": "Python 3",
   "language": "python",
   "name": "python3"
  },
  "language_info": {
   "codemirror_mode": {
    "name": "ipython",
    "version": 3
   },
   "file_extension": ".py",
   "mimetype": "text/x-python",
   "name": "python",
   "nbconvert_exporter": "python",
   "pygments_lexer": "ipython3",
   "version": "3.8.3"
  }
 },
 "nbformat": 4,
 "nbformat_minor": 4
}
