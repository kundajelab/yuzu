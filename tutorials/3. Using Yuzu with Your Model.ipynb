{
 "cells": [
  {
   "cell_type": "markdown",
   "id": "7da532ed",
   "metadata": {},
   "source": [
    "### Using Yuzu with Your Model\n",
    "\n",
    "A challenge in using Yuzu is that replacing operations within a graph is somewhat difficult to implement efficiently: not only do the convolution and max-pool operations need to be rewritten, but the precomputed metadata needs to be passed into layers as appropriate. Accordingly, Yuzu's implementation ignores the forward pass in the written model and instead iterates over the layers in the `model.children()` generator, applying or replacing them as necessary.\n",
    "\n",
    "This notebook will show how to use Yuzu in practice. First, we will show some of the limitations that Yuzu has. Then, we will show how to overcome many of these limitations easily."
   ]
  },
  {
   "cell_type": "code",
   "execution_count": 1,
   "id": "4ddccd88",
   "metadata": {
    "ExecuteTime": {
     "end_time": "2021-09-29T22:42:24.337122Z",
     "start_time": "2021-09-29T22:42:21.977994Z"
    }
   },
   "outputs": [
    {
     "name": "stdout",
     "output_type": "stream",
     "text": [
      "Populating the interactive namespace from numpy and matplotlib\n"
     ]
    }
   ],
   "source": [
    "%pylab inline\n",
    "import seaborn; seaborn.set_style('whitegrid')\n",
    "import torch"
   ]
  },
  {
   "cell_type": "markdown",
   "id": "bbb2bf27",
   "metadata": {},
   "source": [
    "### Limitations of Yuzu\n",
    "\n",
    "Unfortunately, iterating over `model.children()` is conceptually easy but requires that the models are sequential. A major consequence of this is that no multi-input or multi-output networks are supported right now (unless the inputs or outputs can be represented in a single tensor). Also, no networks with multiple paths are supported right now, including residual connections. \n",
    "\n",
    "A second type of limitation is that no operations can be performed in the forward pass other than iterating through the layers in a sequential manner. This means no flattening, reshaping, cropping, adding operations, referring to the same layer multiple times, etc. Any manipulation of the data must occur within the context of layers.\n",
    "\n",
    "Let's start off with a minimal implementation of a small BPNet model, implemented as one might without considering these constraints."
   ]
  },
  {
   "cell_type": "code",
   "execution_count": 2,
   "id": "d36dcb15",
   "metadata": {
    "ExecuteTime": {
     "end_time": "2021-09-29T22:42:24.350102Z",
     "start_time": "2021-09-29T22:42:24.339673Z"
    }
   },
   "outputs": [],
   "source": [
    "import torch\n",
    "\n",
    "class BPNet(torch.nn.Module):\n",
    "    def __init__(self, n_filters=64, n_layers=3):\n",
    "        super(BPNet, self).__init__()\n",
    "        self.trimming = 2 ** n_layers + 3\n",
    "        self.n_filters = n_filters\n",
    "        self.n_layers = n_layers\n",
    "\n",
    "        self.iconv = torch.nn.Conv1d(4, n_filters, kernel_size=7, padding=3)\n",
    "        self.rconvs = torch.nn.ModuleList([\n",
    "            torch.nn.Conv1d(n_filters, n_filters, kernel_size=3, padding=2**i, dilation=2**i) for i in range(1, self.n_layers+1)\n",
    "        ])\n",
    "\n",
    "        self.fconv = torch.nn.Conv1d(n_filters, 1, kernel_size=7, padding=3)\n",
    "        self.relu = torch.nn.ReLU()\n",
    "        self.logsoftmax = torch.nn.LogSoftmax(dim=-1)\n",
    "\n",
    "    def forward(self, X):\n",
    "        start, end = self.trimming, X.shape[2] - self.trimming\n",
    "        X = self.relu(self.iconv(X))\n",
    "        for i in range(self.n_layers):\n",
    "            X_conv = self.relu(self.rconvs[i](X))\n",
    "            X = torch.add(X, X_conv)\n",
    "\n",
    "        X = self.fconv(X)\n",
    "        X = X[:, :, start:end]\n",
    "        y_profile = self.logsoftmax(X) \n",
    "        return y_profile"
   ]
  },
  {
   "cell_type": "markdown",
   "id": "6a5bab95",
   "metadata": {},
   "source": [
    "Unfortunately, using Yuzu requires that a few things need to be changed in this implementation. The first is that ModuleList layer needs to be flattened out. The second is that each ReLU has to be explicitly written rather than having a single ReLU object referenced multiple times. Next, the cropping operation has to be moved into an explicit layer that performs cropping and is specified in the `__init__` method. Finally, and most unfortunately, residual operations are not currently supported by Yuzu.\n",
    "\n",
    "Here is what a model that would work for Yuzu would look like:"
   ]
  },
  {
   "cell_type": "code",
   "execution_count": 3,
   "id": "d88addb5",
   "metadata": {
    "ExecuteTime": {
     "end_time": "2021-09-29T22:42:24.369949Z",
     "start_time": "2021-09-29T22:42:24.352346Z"
    }
   },
   "outputs": [],
   "source": [
    "class Crop(torch.nn.Module):\n",
    "    def __init__(self, trimming):\n",
    "        super(Crop, self).__init__()\n",
    "        self.trimming = trimming\n",
    "    \n",
    "    def forward(self, X):\n",
    "        start, end = self.trimming, X.shape[2] - self.trimming\n",
    "        return X[:, :, start:end]\n",
    "\n",
    "class BPNet2(torch.nn.Module):\n",
    "    def __init__(self, n_filters=64, n_layers=3):\n",
    "        super(BPNet2, self).__init__()\n",
    "        self.trimming = 2 ** n_layers + 3\n",
    "        self.n_filters = n_filters\n",
    "        self.n_layers = n_layers\n",
    "\n",
    "        self.iconv = torch.nn.Conv1d(4, n_filters, kernel_size=7, padding=3)\n",
    "        self.relu1 = torch.nn.ReLU()\n",
    "        \n",
    "        self.rconv1 = torch.nn.Conv1d(n_filters, n_filters, kernel_size=3, padding=2, dilation=2)\n",
    "        self.relu2 = torch.nn.ReLU()\n",
    "        \n",
    "        self.rconv2 = torch.nn.Conv1d(n_filters, n_filters, kernel_size=3, padding=4, dilation=4)\n",
    "        self.relu3 = torch.nn.ReLU()\n",
    "        \n",
    "        self.rconv3 = torch.nn.Conv1d(n_filters, n_filters, kernel_size=3, padding=8, dilation=8)\n",
    "        self.relu4 = torch.nn.ReLU()\n",
    "        \n",
    "        self.fconv = torch.nn.Conv1d(n_filters, 1, kernel_size=7, padding=3)\n",
    "        self.crop = Crop(self.trimming)\n",
    "        self.logsoftmax = torch.nn.LogSoftmax(dim=-1)\n",
    "\n",
    "    def forward(self, X):\n",
    "        X = self.relu1(self.iconv(X))\n",
    "        X = self.relu2(self.rconv1(X))\n",
    "        X = self.relu3(self.rconv2(X))\n",
    "        X = self.relu4(self.rconv3(X))\n",
    "        X = self.fconv(X)\n",
    "        X = self.crop(X)\n",
    "        X = self.logsoftmax(X)\n",
    "        return X\n",
    "    \n",
    "model = BPNet2()"
   ]
  },
  {
   "cell_type": "markdown",
   "id": "6b302a5a",
   "metadata": {},
   "source": [
    "Given this model, we can run through the Yuzu pipeline just as before. All we have to do is make sure that the custom layers are passed in as terminal layers if you need to stop usin the delta tensor representation internally and instead stop running the Yuzu procedure once the layer is encountered."
   ]
  },
  {
   "cell_type": "code",
   "execution_count": 4,
   "id": "70edcb20",
   "metadata": {
    "ExecuteTime": {
     "end_time": "2021-09-29T22:44:02.385320Z",
     "start_time": "2021-09-29T22:42:24.372893Z"
    }
   },
   "outputs": [],
   "source": [
    "from yuzu import yuzu_ism, precompute\n",
    "\n",
    "seq_len = 500\n",
    "\n",
    "precomputation = precompute(model, seq_len, alpha=1.05, terminal_layers=(Crop,))"
   ]
  },
  {
   "cell_type": "code",
   "execution_count": 5,
   "id": "5b8e735e",
   "metadata": {
    "ExecuteTime": {
     "end_time": "2021-09-29T22:44:09.681586Z",
     "start_time": "2021-09-29T22:44:02.387990Z"
    }
   },
   "outputs": [
    {
     "name": "stdout",
     "output_type": "stream",
     "text": [
      "861 ms ± 202 ms per loop (mean ± std. dev. of 7 runs, 1 loop each)\n"
     ]
    }
   ],
   "source": [
    "idxs = numpy.random.RandomState(0).randn(4, seq_len).argmax(axis=0)\n",
    "X = numpy.zeros((1, 4, seq_len), dtype='float32')\n",
    "X[0, idxs, numpy.arange(seq_len)] = 1\n",
    "\n",
    "%timeit yuzu_ism(model, X, precomputation, terminal_layers=(Crop,))"
   ]
  },
  {
   "cell_type": "markdown",
   "id": "440a6e50",
   "metadata": {},
   "source": [
    "And we can compare the time to the naive ISM method. "
   ]
  },
  {
   "cell_type": "code",
   "execution_count": 6,
   "id": "f2511843",
   "metadata": {
    "ExecuteTime": {
     "end_time": "2021-09-29T22:44:34.968433Z",
     "start_time": "2021-09-29T22:44:09.683925Z"
    }
   },
   "outputs": [
    {
     "name": "stdout",
     "output_type": "stream",
     "text": [
      "3.19 s ± 215 ms per loop (mean ± std. dev. of 7 runs, 1 loop each)\n"
     ]
    }
   ],
   "source": [
    "from yuzu.naive_ism import naive_ism\n",
    "\n",
    "%timeit naive_ism(model, X)"
   ]
  },
  {
   "cell_type": "markdown",
   "id": "8030f899",
   "metadata": {},
   "source": [
    "And we can get the scores as normal. Just make sure to pass in the custom layer as a terminal layer."
   ]
  },
  {
   "cell_type": "code",
   "execution_count": 7,
   "id": "3ba63a83",
   "metadata": {
    "ExecuteTime": {
     "end_time": "2021-09-29T22:44:38.598821Z",
     "start_time": "2021-09-29T22:44:34.970681Z"
    }
   },
   "outputs": [],
   "source": [
    "yuzu_ism_scores = yuzu_ism(model, X, precomputation, terminal_layers=(Crop,))\n",
    "naive_ism_scores = naive_ism(model, X)"
   ]
  },
  {
   "cell_type": "code",
   "execution_count": 8,
   "id": "56876d0e",
   "metadata": {
    "ExecuteTime": {
     "end_time": "2021-09-29T22:44:38.955993Z",
     "start_time": "2021-09-29T22:44:38.600813Z"
    }
   },
   "outputs": [
    {
     "data": {
      "image/png": "[encoded data removed]",
      "text/plain": [
       "<Figure size 432x288 with 1 Axes>"
      ]
     },
     "metadata": {},
     "output_type": "display_data"
    }
   ],
   "source": [
    "plt.scatter(yuzu_ism_scores.flatten(), naive_ism_scores.flatten())\n",
    "plt.plot([0, 0.016], [0, 0.016])\n",
    "plt.title(\"ISM Scores Match Across Methods\", fontsize=14)\n",
    "plt.xlabel(\"Yuzu ISM Scores\", fontsize=12)\n",
    "plt.ylabel(\"Naive ISM Scores\", fontsize=12)\n",
    "plt.show()"
   ]
  },
  {
   "cell_type": "markdown",
   "id": "bc486054",
   "metadata": {},
   "source": [
    "Finally, we can confirm that we get the same ISM scores using Yuzu and the naive method on this model."
   ]
  },
  {
   "cell_type": "code",
   "execution_count": 9,
   "id": "23bc678a",
   "metadata": {
    "ExecuteTime": {
     "end_time": "2021-09-29T22:44:38.962835Z",
     "start_time": "2021-09-29T22:44:38.957922Z"
    }
   },
   "outputs": [
    {
     "data": {
      "text/plain": [
       "1.3223429e-06"
      ]
     },
     "execution_count": 9,
     "metadata": {},
     "output_type": "execute_result"
    }
   ],
   "source": [
    "numpy.abs(naive_ism_scores - yuzu_ism_scores).mean()"
   ]
  },
  {
   "cell_type": "markdown",
   "id": "367fe228",
   "metadata": {},
   "source": [
    "### Using Yuzu with a Pre-trained Model\n",
    "\n",
    "Now, let's say that you've already trained your model and you don't want to have to rewrite and retrain your model just to use Yuzu. Fortunately, you can usually transfer the weights of the learned parameters over to a new model definition that includes the changes that you need.\n",
    "\n",
    "For instance, let's say you've trained a DeepSEA model with the following implementation:"
   ]
  },
  {
   "cell_type": "code",
   "execution_count": 10,
   "id": "207c6693",
   "metadata": {
    "ExecuteTime": {
     "end_time": "2021-09-29T22:44:39.000657Z",
     "start_time": "2021-09-29T22:44:38.965878Z"
    }
   },
   "outputs": [],
   "source": [
    "class DeepSEA(torch.nn.Module):\n",
    "    def __init__(self, random_state=0):\n",
    "        super(DeepSEA, self).__init__()\n",
    "        torch.manual_seed(random_state)\n",
    "\n",
    "        self.conv1 = torch.nn.Conv1d(4, 32, kernel_size=9, padding=4)\n",
    "        self.relu1 = torch.nn.ReLU()\n",
    "        self.mp1 = torch.nn.MaxPool1d(4)\n",
    "\n",
    "        self.conv2 = torch.nn.Conv1d(32, 48, kernel_size=9, padding=4)\n",
    "        self.relu2 = torch.nn.ReLU()\n",
    "        self.mp2 = torch.nn.MaxPool1d(4)\n",
    "\n",
    "        self.conv3 = torch.nn.Conv1d(48, 96, kernel_size=9, padding=4)\n",
    "        self.relu3 = torch.nn.ReLU()\n",
    "\n",
    "        self.fc = torch.nn.Linear((250 // 4 // 4) * 96, 925)\n",
    "        self.sigmoid = torch.nn.Sigmoid()\n",
    "\n",
    "    def forward(self, X):\n",
    "        X = self.mp1(self.relu1(self.conv1(X)))\n",
    "        X = self.mp2(self.relu2(self.conv2(X)))\n",
    "        X = self.relu3(self.conv3(X))\n",
    "        X = X.permute(0, 2, 1).contiguous().view(X.shape[0], -1)\n",
    "\n",
    "        X = self.sigmoid(self.fc(X))\n",
    "        X = X.unsqueeze(1)\n",
    "        return X\n",
    "    \n",
    "model = DeepSEA()"
   ]
  },
  {
   "cell_type": "markdown",
   "id": "b6def24d",
   "metadata": {},
   "source": [
    "In order to get a model trained with this implementation to work with Yuzu, all we need to do is redefine the implementation with the fixes and transfer the weights over as appropriate. \n",
    "\n",
    "First, let's write out an implementation that would work with Yuzu using two built-in layers for common operations."
   ]
  },
  {
   "cell_type": "code",
   "execution_count": 11,
   "id": "46735dbf",
   "metadata": {
    "ExecuteTime": {
     "end_time": "2021-09-29T22:44:39.012719Z",
     "start_time": "2021-09-29T22:44:39.002605Z"
    }
   },
   "outputs": [],
   "source": [
    "from yuzu.models import Flatten, Unsqueeze\n",
    "\n",
    "class DeepSEA2(torch.nn.Module):\n",
    "    def __init__(self, random_state=0):\n",
    "        super(DeepSEA2, self).__init__()\n",
    "        torch.manual_seed(random_state)\n",
    "\n",
    "        self.conv1 = torch.nn.Conv1d(4, 32, kernel_size=9, padding=4)\n",
    "        self.relu1 = torch.nn.ReLU()\n",
    "        self.mp1 = torch.nn.MaxPool1d(4)\n",
    "\n",
    "        self.conv2 = torch.nn.Conv1d(32, 48, kernel_size=9, padding=4)\n",
    "        self.relu2 = torch.nn.ReLU()\n",
    "        self.mp2 = torch.nn.MaxPool1d(4)\n",
    "\n",
    "        self.conv3 = torch.nn.Conv1d(48, 96, kernel_size=9, padding=4)\n",
    "        self.relu3 = torch.nn.ReLU()\n",
    "\n",
    "        self.flatten = Flatten()\n",
    "        self.fc = torch.nn.Linear((250 // 4 // 4) * 96, 925)\n",
    "        self.sigmoid = torch.nn.Sigmoid()\n",
    "        self.unsqueeze = Unsqueeze(1)\n",
    "\n",
    "    def forward(self, X):\n",
    "        X = self.mp1(self.relu1(self.conv1(X)))\n",
    "        X = self.mp2(self.relu2(self.conv2(X)))\n",
    "        X = self.relu3(self.conv3(X))\n",
    "        X = self.flatten(X)\n",
    "\n",
    "        X = self.sigmoid(self.fc(X))\n",
    "        X = self.unsqueeze(X)\n",
    "        return X"
   ]
  },
  {
   "cell_type": "markdown",
   "id": "328a364f",
   "metadata": {},
   "source": [
    "Now, let's create an instance of the new model and transfer the parameters over."
   ]
  },
  {
   "cell_type": "code",
   "execution_count": 12,
   "id": "989a5dd5",
   "metadata": {
    "ExecuteTime": {
     "end_time": "2021-09-29T22:44:39.077440Z",
     "start_time": "2021-09-29T22:44:39.014567Z"
    }
   },
   "outputs": [
    {
     "data": {
      "text/plain": [
       "<All keys matched successfully>"
      ]
     },
     "execution_count": 12,
     "metadata": {},
     "output_type": "execute_result"
    }
   ],
   "source": [
    "model2 = DeepSEA2()\n",
    "model2.load_state_dict(model.state_dict())"
   ]
  },
  {
   "cell_type": "markdown",
   "id": "0dbf18c5",
   "metadata": {},
   "source": [
    "We can demonstrate that the outputs from the model are the same:"
   ]
  },
  {
   "cell_type": "code",
   "execution_count": 13,
   "id": "8d756c13",
   "metadata": {
    "ExecuteTime": {
     "end_time": "2021-09-29T22:44:39.533581Z",
     "start_time": "2021-09-29T22:44:39.079939Z"
    }
   },
   "outputs": [
    {
     "name": "stderr",
     "output_type": "stream",
     "text": [
      "/users/jmschr/anaconda3/lib/python3.8/site-packages/torch/nn/functional.py:652: UserWarning: Named tensors and all their associated APIs are an experimental feature and subject to change. Please do not use them for anything important until they are released as stable. (Triggered internally at  /pytorch/c10/core/TensorImpl.h:1156.)\n",
      "  return torch.max_pool1d(input, kernel_size, stride, padding, dilation, ceil_mode)\n"
     ]
    },
    {
     "data": {
      "text/plain": [
       "0.0"
      ]
     },
     "execution_count": 13,
     "metadata": {},
     "output_type": "execute_result"
    }
   ],
   "source": [
    "idxs = numpy.random.RandomState(0).randn(4, 250).argmax(axis=0)\n",
    "X = numpy.zeros((1, 4, 250), dtype='float32')\n",
    "X[0, idxs, numpy.arange(250)] = 1\n",
    "X_torch = torch.tensor(X)\n",
    "\n",
    "x = model(X_torch).detach().numpy()\n",
    "y = model2(X_torch).detach().numpy()\n",
    "\n",
    "numpy.abs(x - y).sum()"
   ]
  },
  {
   "cell_type": "markdown",
   "id": "801ca651",
   "metadata": {},
   "source": [
    "We can also show that the naive ISM outputs are the same for both models, and that the Yuzu ISM output matches the naive ISM one."
   ]
  },
  {
   "cell_type": "code",
   "execution_count": 14,
   "id": "7e274932",
   "metadata": {
    "ExecuteTime": {
     "end_time": "2021-09-29T22:46:53.667844Z",
     "start_time": "2021-09-29T22:44:39.535296Z"
    }
   },
   "outputs": [
    {
     "data": {
      "text/plain": [
       "(0.0, 0.00016033882)"
      ]
     },
     "execution_count": 14,
     "metadata": {},
     "output_type": "execute_result"
    }
   ],
   "source": [
    "nism1 = naive_ism(model, X)\n",
    "nism2 = naive_ism(model2, X)\n",
    "\n",
    "precomputation = precompute(model2, 250)\n",
    "yism = yuzu_ism(model2, X, precomputation)\n",
    "\n",
    "numpy.abs(nism1 - nism2).sum(), numpy.abs(yism - nism2).sum()"
   ]
  },
  {
   "cell_type": "markdown",
   "id": "337e37d9",
   "metadata": {},
   "source": [
    "Transferring weights over like this offers great flexibility in re-defining the model to match the Yuzu specifications for now."
   ]
  }
 ],
 "metadata": {
  "kernelspec": {
   "display_name": "Python 3 (ipykernel)",
   "language": "python",
   "name": "python3"
  },
  "language_info": {
   "codemirror_mode": {
    "name": "ipython",
    "version": 3
   },
   "file_extension": ".py",
   "mimetype": "text/x-python",
   "name": "python",
   "nbconvert_exporter": "python",
   "pygments_lexer": "ipython3",
   "version": "3.8.3"
  }
 },
 "nbformat": 4,
 "nbformat_minor": 5
}
